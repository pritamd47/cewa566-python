{
 "cells": [
  {
   "cell_type": "code",
   "execution_count": null,
   "id": "31da0645",
   "metadata": {},
   "outputs": [],
   "source": [
    "import numpy as np\n",
    "import pandas as pd\n",
    "import plotly.graph_objects as go\n",
    "from plotly.subplots import make_subplots"
   ]
  },
  {
   "cell_type": "markdown",
   "id": "da294b4f",
   "metadata": {},
   "source": [
    "1. Load in the data"
   ]
  },
  {
   "cell_type": "code",
   "execution_count": null,
   "id": "5e68d790",
   "metadata": {},
   "outputs": [],
   "source": [
    "aec = pd.read_csv(\"../data/aec-sirindhorn.csv\")\n",
    "sarea = pd.read_csv(\"../data/area-sirindhorn.csv\", parse_dates=['system:time_start']).drop(['system:index', '.geo'], axis=1).rename({'system:time_start': 'date'}, axis=1)\n",
    "\n",
    "# cleaning has to be done\n",
    "sarea.loc[sarea['water_area'] == -9999, 'water_area'] = np.nan\n",
    "sarea.loc[sarea['corrected_area'] == -9999, 'corrected_area'] = np.nan\n",
    "sarea.loc[:, 'corrected_area'] = sarea.loc[:, 'corrected_area'].fillna(method='ffill')\n",
    "\n",
    "# CODE FOR PLOTTING BELOW (ignore)\n",
    "f = make_subplots(\n",
    "    rows=1, cols=2,\n",
    "    subplot_titles=(\"AEC\", \"Surface Area\"),\n",
    "    horizontal_spacing=0.05,\n",
    "    shared_yaxes=True)\n",
    "\n",
    "f.add_trace(go.Scatter(\n",
    "    x = aec['Elevation'],\n",
    "    y = aec['Area'],\n",
    "    mode = 'markers+lines',\n",
    "    name = 'AEC - Sirindhorn'\n",
    "), row=1, col=1)\n",
    "\n",
    "f.add_trace(go.Scatter(\n",
    "    x = sarea['date'],\n",
    "    y = sarea['corrected_area'],\n",
    "    mode = 'markers+lines',\n",
    "    name = 'Surface area (TMS-OS)'\n",
    "), row=1, col=2)\n",
    "\n",
    "f.update_layout(\n",
    "    title_text = 'Sirindhorn - AEC and Surface Areas', title_x = 0.5,\n",
    "    legend = dict(\n",
    "        yanchor = 'top',\n",
    "        y = 0.99,\n",
    "        xanchor = 'left',\n",
    "        x = 0.01\n",
    "    ),\n",
    "    margin = dict(l=50, r=50, t=100, b=50)\n",
    ")\n",
    "\n",
    "f.update_xaxes(title_text = \"Water Level (m)\", row=1, col=1)\n",
    "f.update_yaxes(title_text = \"Surface Area (km^2)\", row=1, col=1)\n",
    "f.update_xaxes(title_text = \"Date\", row=1, col=2)\n",
    "f.update_yaxes(title_text = \"Surface Area (km^2)\", row=1, col=2)"
   ]
  },
  {
   "cell_type": "markdown",
   "id": "9158e389",
   "metadata": {},
   "source": [
    "2. Convert from _Areas_ to _Water Level_, and perform calculation using the trapezoidal method - \n",
    "$$\\Delta S = \\frac{1}{2} \\times (A_t + A_{t-1}) \\times (h_t - h_{t-1})$$"
   ]
  },
  {
   "cell_type": "code",
   "execution_count": null,
   "id": "e6e78f32",
   "metadata": {},
   "outputs": [],
   "source": [
    "df = sarea.copy()\n",
    "\n",
    "# Define a function using the AEC for converting Area -> Elevation \n",
    "get_elev = lambda area: np.interp(area, aec['Area'], aec['Elevation'])\n",
    "\n",
    "# Convert Area -> Elevation\n",
    "df['wl (m)'] = df['corrected_area'].apply(get_elev)\n",
    "\n",
    "# Convert area from km^2 to m^2\n",
    "df['area (m2)'] = df['corrected_area'] * 1e6\n",
    "\n",
    "# Perform the calculation using Trapezoidal method\n",
    "A0 = df['area (m2)'].iloc[:-1]\n",
    "A1 = df['area (m2)'].iloc[1:]\n",
    "\n",
    "h0 = df['wl (m)'].iloc[:-1]\n",
    "h1 = df['wl (m)'].iloc[1:]\n",
    "\n",
    "S = (h1.values - h0.values)*(A1.values + A0.values)/2\n",
    "S = np.insert(S, 0, np.nan)                     # Insert a Not-A-Number value at the beginning \n",
    "\n",
    "df['dS'] = S"
   ]
  },
  {
   "cell_type": "markdown",
   "id": "66fa6645",
   "metadata": {},
   "source": [
    "Let's plot the ∆S now"
   ]
  },
  {
   "cell_type": "code",
   "execution_count": null,
   "id": "c10ea0a1",
   "metadata": {},
   "outputs": [],
   "source": [
    "# CODE FOR PLOTTING BELOW (ignore)\n",
    "f = make_subplots(\n",
    "    rows=2, cols=1,\n",
    "    subplot_titles=(\"∆S\", \"Surface Areaa\"),\n",
    "    vertical_spacing=0.1,\n",
    "    shared_xaxes=True)\n",
    "\n",
    "f.add_trace(go.Scatter(\n",
    "    x = df['date'],\n",
    "    y = df['dS']*1e-6,  # convert to Million m^3\n",
    "    mode = 'markers+lines',\n",
    "    name = 'Estimated ∆S - Sirindhorn'\n",
    "), row=1, col=1)\n",
    "\n",
    "f.add_trace(go.Scatter(\n",
    "    x = df['date'],\n",
    "    y = df['corrected_area'],\n",
    "    mode = 'markers+lines',\n",
    "    name = 'Surface area (TMS-OS)'\n",
    "), row=2, col=1)\n",
    "\n",
    "f.update_layout(\n",
    "    title_text = 'Sirindhorn - ∆S and corresponding Surface Areas', title_x = 0.5,\n",
    "    legend = dict(\n",
    "        yanchor = 'top',\n",
    "        y = 0.99,\n",
    "        xanchor = 'left',\n",
    "        x = 0.01\n",
    "    ),\n",
    "    margin = dict(l=50, r=50, t=100, b=50)\n",
    ")\n",
    "\n",
    "f.update_yaxes(title_text = \"∆S (Mil. m^3)\", row=1, col=1)\n",
    "f.update_xaxes(title_text = \"Date\", row=2, col=1)\n",
    "f.update_yaxes(title_text = \"Surface Area (km^2)\", row=2, col=1)"
   ]
  },
  {
   "cell_type": "code",
   "execution_count": null,
   "id": "6a7cd0e6",
   "metadata": {},
   "outputs": [],
   "source": [
    "df.to_csv(\"../data/dels-sirindhorn.csv\", index=False)"
   ]
  }
 ],
 "metadata": {
  "kernelspec": {
   "display_name": "Python 3.9.6 ('sc')",
   "language": "python",
   "name": "python3"
  },
  "language_info": {
   "codemirror_mode": {
    "name": "ipython",
    "version": 3
   },
   "file_extension": ".py",
   "mimetype": "text/x-python",
   "name": "python",
   "nbconvert_exporter": "python",
   "pygments_lexer": "ipython3",
   "version": "3.9.6"
  },
  "vscode": {
   "interpreter": {
    "hash": "2bd76d7b07c0e3fa23721754de28049be2bfde6e8036b0d0574e1016dcb1494b"
   }
  }
 },
 "nbformat": 4,
 "nbformat_minor": 5
}
